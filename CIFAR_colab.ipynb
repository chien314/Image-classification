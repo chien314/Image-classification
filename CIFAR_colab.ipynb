{
  "nbformat": 4,
  "nbformat_minor": 0,
  "metadata": {
    "accelerator": "GPU",
    "colab": {
      "name": "CIFAR-colab.ipynb",
      "provenance": [],
      "collapsed_sections": [],
      "include_colab_link": true
    },
    "kernelspec": {
      "display_name": "Python 3",
      "language": "python",
      "name": "python3"
    },
    "language_info": {
      "codemirror_mode": {
        "name": "ipython",
        "version": 3
      },
      "file_extension": ".py",
      "mimetype": "text/x-python",
      "name": "python",
      "nbconvert_exporter": "python",
      "pygments_lexer": "ipython3",
      "version": "3.8.2"
    },
    "widgets": {
      "application/vnd.jupyter.widget-state+json": {
        "1a2dbecbfb8e4c58afc5e2154bc4d7fa": {
          "model_module": "@jupyter-widgets/controls",
          "model_name": "HBoxModel",
          "state": {
            "_view_name": "HBoxView",
            "_dom_classes": [],
            "_model_name": "HBoxModel",
            "_view_module": "@jupyter-widgets/controls",
            "_model_module_version": "1.5.0",
            "_view_count": null,
            "_view_module_version": "1.5.0",
            "box_style": "",
            "layout": "IPY_MODEL_8cde68c21cd6410f9435dcaadf42216b",
            "_model_module": "@jupyter-widgets/controls",
            "children": [
              "IPY_MODEL_7913b523a7ad4599b23cf9ceb3849ed7",
              "IPY_MODEL_fce423e21c6f4bd5b251dddf854b628f"
            ]
          }
        },
        "8cde68c21cd6410f9435dcaadf42216b": {
          "model_module": "@jupyter-widgets/base",
          "model_name": "LayoutModel",
          "state": {
            "_view_name": "LayoutView",
            "grid_template_rows": null,
            "right": null,
            "justify_content": null,
            "_view_module": "@jupyter-widgets/base",
            "overflow": null,
            "_model_module_version": "1.2.0",
            "_view_count": null,
            "flex_flow": null,
            "width": null,
            "min_width": null,
            "border": null,
            "align_items": null,
            "bottom": null,
            "_model_module": "@jupyter-widgets/base",
            "top": null,
            "grid_column": null,
            "overflow_y": null,
            "overflow_x": null,
            "grid_auto_flow": null,
            "grid_area": null,
            "grid_template_columns": null,
            "flex": null,
            "_model_name": "LayoutModel",
            "justify_items": null,
            "grid_row": null,
            "max_height": null,
            "align_content": null,
            "visibility": null,
            "align_self": null,
            "height": null,
            "min_height": null,
            "padding": null,
            "grid_auto_rows": null,
            "grid_gap": null,
            "max_width": null,
            "order": null,
            "_view_module_version": "1.2.0",
            "grid_template_areas": null,
            "object_position": null,
            "object_fit": null,
            "grid_auto_columns": null,
            "margin": null,
            "display": null,
            "left": null
          }
        },
        "7913b523a7ad4599b23cf9ceb3849ed7": {
          "model_module": "@jupyter-widgets/controls",
          "model_name": "FloatProgressModel",
          "state": {
            "_view_name": "ProgressView",
            "style": "IPY_MODEL_7b3b469c99304a6da888dbb3d1af3ba3",
            "_dom_classes": [],
            "description": "",
            "_model_name": "FloatProgressModel",
            "bar_style": "info",
            "max": 1,
            "_view_module": "@jupyter-widgets/controls",
            "_model_module_version": "1.5.0",
            "value": 1,
            "_view_count": null,
            "_view_module_version": "1.5.0",
            "orientation": "horizontal",
            "min": 0,
            "description_tooltip": null,
            "_model_module": "@jupyter-widgets/controls",
            "layout": "IPY_MODEL_52530637493f45e2b21896eca681f397"
          }
        },
        "fce423e21c6f4bd5b251dddf854b628f": {
          "model_module": "@jupyter-widgets/controls",
          "model_name": "HTMLModel",
          "state": {
            "_view_name": "HTMLView",
            "style": "IPY_MODEL_8ca5db86d4f549e9ac4c606df65068cb",
            "_dom_classes": [],
            "description": "",
            "_model_name": "HTMLModel",
            "placeholder": "​",
            "_view_module": "@jupyter-widgets/controls",
            "_model_module_version": "1.5.0",
            "value": " 170500096/? [00:20&lt;00:00, 96271055.23it/s]",
            "_view_count": null,
            "_view_module_version": "1.5.0",
            "description_tooltip": null,
            "_model_module": "@jupyter-widgets/controls",
            "layout": "IPY_MODEL_665b72a4372c4a18aaf8db89b7545fcb"
          }
        },
        "7b3b469c99304a6da888dbb3d1af3ba3": {
          "model_module": "@jupyter-widgets/controls",
          "model_name": "ProgressStyleModel",
          "state": {
            "_view_name": "StyleView",
            "_model_name": "ProgressStyleModel",
            "description_width": "initial",
            "_view_module": "@jupyter-widgets/base",
            "_model_module_version": "1.5.0",
            "_view_count": null,
            "_view_module_version": "1.2.0",
            "bar_color": null,
            "_model_module": "@jupyter-widgets/controls"
          }
        },
        "52530637493f45e2b21896eca681f397": {
          "model_module": "@jupyter-widgets/base",
          "model_name": "LayoutModel",
          "state": {
            "_view_name": "LayoutView",
            "grid_template_rows": null,
            "right": null,
            "justify_content": null,
            "_view_module": "@jupyter-widgets/base",
            "overflow": null,
            "_model_module_version": "1.2.0",
            "_view_count": null,
            "flex_flow": null,
            "width": null,
            "min_width": null,
            "border": null,
            "align_items": null,
            "bottom": null,
            "_model_module": "@jupyter-widgets/base",
            "top": null,
            "grid_column": null,
            "overflow_y": null,
            "overflow_x": null,
            "grid_auto_flow": null,
            "grid_area": null,
            "grid_template_columns": null,
            "flex": null,
            "_model_name": "LayoutModel",
            "justify_items": null,
            "grid_row": null,
            "max_height": null,
            "align_content": null,
            "visibility": null,
            "align_self": null,
            "height": null,
            "min_height": null,
            "padding": null,
            "grid_auto_rows": null,
            "grid_gap": null,
            "max_width": null,
            "order": null,
            "_view_module_version": "1.2.0",
            "grid_template_areas": null,
            "object_position": null,
            "object_fit": null,
            "grid_auto_columns": null,
            "margin": null,
            "display": null,
            "left": null
          }
        },
        "8ca5db86d4f549e9ac4c606df65068cb": {
          "model_module": "@jupyter-widgets/controls",
          "model_name": "DescriptionStyleModel",
          "state": {
            "_view_name": "StyleView",
            "_model_name": "DescriptionStyleModel",
            "description_width": "",
            "_view_module": "@jupyter-widgets/base",
            "_model_module_version": "1.5.0",
            "_view_count": null,
            "_view_module_version": "1.2.0",
            "_model_module": "@jupyter-widgets/controls"
          }
        },
        "665b72a4372c4a18aaf8db89b7545fcb": {
          "model_module": "@jupyter-widgets/base",
          "model_name": "LayoutModel",
          "state": {
            "_view_name": "LayoutView",
            "grid_template_rows": null,
            "right": null,
            "justify_content": null,
            "_view_module": "@jupyter-widgets/base",
            "overflow": null,
            "_model_module_version": "1.2.0",
            "_view_count": null,
            "flex_flow": null,
            "width": null,
            "min_width": null,
            "border": null,
            "align_items": null,
            "bottom": null,
            "_model_module": "@jupyter-widgets/base",
            "top": null,
            "grid_column": null,
            "overflow_y": null,
            "overflow_x": null,
            "grid_auto_flow": null,
            "grid_area": null,
            "grid_template_columns": null,
            "flex": null,
            "_model_name": "LayoutModel",
            "justify_items": null,
            "grid_row": null,
            "max_height": null,
            "align_content": null,
            "visibility": null,
            "align_self": null,
            "height": null,
            "min_height": null,
            "padding": null,
            "grid_auto_rows": null,
            "grid_gap": null,
            "max_width": null,
            "order": null,
            "_view_module_version": "1.2.0",
            "grid_template_areas": null,
            "object_position": null,
            "object_fit": null,
            "grid_auto_columns": null,
            "margin": null,
            "display": null,
            "left": null
          }
        }
      }
    }
  },
  "cells": [
    {
      "cell_type": "markdown",
      "metadata": {
        "id": "view-in-github",
        "colab_type": "text"
      },
      "source": [
        "<a href=\"https://colab.research.google.com/github/chien314/Image-classification/blob/main/CIFAR_colab.ipynb\" target=\"_parent\"><img src=\"https://colab.research.google.com/assets/colab-badge.svg\" alt=\"Open In Colab\"/></a>"
      ]
    },
    {
      "cell_type": "markdown",
      "metadata": {
        "id": "vUTgGUi4JEft"
      },
      "source": [
        "# CIFAR10 Image Classification with PyTorch"
      ]
    },
    {
      "cell_type": "markdown",
      "metadata": {
        "id": "nEmmCk1IJiGn"
      },
      "source": [
        "## Part 0 Imports and Basic Setup"
      ]
    },
    {
      "cell_type": "code",
      "metadata": {
        "id": "UwtDsq3VbrNY"
      },
      "source": [
        "import numpy as np\n",
        "import torch\n",
        "from torch import nn\n",
        "from torch import optim\n",
        "\n",
        "import matplotlib.pyplot as plt"
      ],
      "execution_count": 1,
      "outputs": []
    },
    {
      "cell_type": "code",
      "metadata": {
        "colab": {
          "base_uri": "https://localhost:8080/"
        },
        "id": "gbGGmnIXYca9",
        "outputId": "16fb47e8-754d-4254-fba4-8784dbc92757"
      },
      "source": [
        "import torch.cuda as cuda\n",
        "\n",
        "# Use a GPU, i.e. cuda:0 device if it available.\n",
        "device = torch.device(\"cuda:0\" if cuda.is_available() else \"cpu\")\n",
        "print(device)"
      ],
      "execution_count": 2,
      "outputs": [
        {
          "output_type": "stream",
          "text": [
            "cuda:0\n"
          ],
          "name": "stdout"
        }
      ]
    },
    {
      "cell_type": "markdown",
      "metadata": {
        "id": "07RjQbhF1tiK"
      },
      "source": [
        "### Training Code"
      ]
    },
    {
      "cell_type": "code",
      "metadata": {
        "cellView": "form",
        "id": "_DZm8ammPCbL"
      },
      "source": [
        "import time\n",
        "\n",
        "class Flatten(nn.Module):\n",
        "  \"\"\"NN Module that flattens the incoming tensor.\"\"\"\n",
        "  def forward(self, input):\n",
        "    return input.view(input.size(0), -1)\n",
        "  \n",
        "def train(model, train_loader, test_loader, loss_func, opt, num_epochs=10):\n",
        "  all_training_loss = np.zeros((0,2))\n",
        "  all_training_acc = np.zeros((0,2))\n",
        "  all_test_loss = np.zeros((0,2))\n",
        "  all_test_acc = np.zeros((0,2))\n",
        "  \n",
        "  training_step = 0\n",
        "  training_loss, training_acc = 2.0, 0.0\n",
        "  print_every = 1000\n",
        "  \n",
        "  start = time.perf_counter()\n",
        "  \n",
        "  for i in range(num_epochs):\n",
        "    epoch_start = time.perf_counter() \n",
        "   \n",
        "    model.train()\n",
        "    for images, labels in train_loader:\n",
        "      images, labels = images.to(device), labels.to(device)\n",
        "      opt.zero_grad()\n",
        "\n",
        "      preds = model(images)\n",
        "      loss = loss_func(preds, labels)\n",
        "      loss.backward()\n",
        "      opt.step()\n",
        "      \n",
        "      training_loss += loss.item()\n",
        "      training_acc += (torch.argmax(preds, dim=1)==labels).float().mean()\n",
        "      \n",
        "      if training_step % print_every == 0:\n",
        "        training_loss /= print_every\n",
        "        training_acc /= print_every\n",
        "        \n",
        "        all_training_loss = np.concatenate((all_training_loss, [[training_step, training_loss]]))\n",
        "        all_training_acc = np.concatenate((all_training_acc, [[training_step, training_acc]]))\n",
        "        \n",
        "        print('  Epoch %d @ step %d: Train Loss: %3f, Train Accuracy: %3f' % (\n",
        "            i, training_step, training_loss, training_acc))\n",
        "        training_loss, training_acc = 0.0, 0.0\n",
        "        \n",
        "      training_step+=1\n",
        "\n",
        "    model.eval()\n",
        "    with torch.no_grad():\n",
        "      validation_loss, validation_acc = 0.0, 0.0\n",
        "      count = 0\n",
        "      for images, labels in test_loader:\n",
        "        images, labels = images.to(device), labels.to(device)\n",
        "        output = model(images)\n",
        "        validation_loss+=loss_func(output,labels)\n",
        "        validation_acc+=(torch.argmax(output, dim=1) == labels).float().mean()\n",
        "        count += 1\n",
        "      validation_loss/=count\n",
        "      validation_acc/=count\n",
        "      \n",
        "      all_test_loss = np.concatenate((all_test_loss, [[training_step, validation_loss]]))\n",
        "      all_test_acc = np.concatenate((all_test_acc, [[training_step, validation_acc]]))\n",
        "      \n",
        "      epoch_time = time.perf_counter() - epoch_start\n",
        "      \n",
        "      print('Epoch %d Test Loss: %3f, Test Accuracy: %3f, time: %.1fs' % (\n",
        "          i, validation_loss, validation_acc, epoch_time))\n",
        "      \n",
        "  total_time = time.perf_counter() - start\n",
        "  print('Final Test Loss: %3f, Test Accuracy: %3f, Total time: %.1fs' % (\n",
        "      validation_loss, validation_acc, total_time))\n",
        "\n",
        "  return {'loss': { 'train': all_training_loss, 'test': all_test_loss },\n",
        "          'accuracy': { 'train': all_training_acc, 'test': all_test_acc }}\n",
        "\n",
        "def plot_graphs(model_name, metrics):\n",
        "  for metric, values in metrics.items():\n",
        "    for name, v in values.items():\n",
        "      plt.plot(v[:,0], v[:,1], label=name)\n",
        "    plt.title(f'{metric} for {model_name}')\n",
        "    plt.legend()\n",
        "    plt.xlabel(\"Training Steps\")\n",
        "    plt.ylabel(metric)\n",
        "    plt.show()\n",
        "    "
      ],
      "execution_count": 3,
      "outputs": []
    },
    {
      "cell_type": "markdown",
      "metadata": {
        "id": "1RupXQbCaXb3"
      },
      "source": [
        "Load the ** CIFAR-10** dataset and define the transformations.  "
      ]
    },
    {
      "cell_type": "code",
      "metadata": {
        "id": "Q1iEzkCUAim9"
      },
      "source": [
        "!mkdir cifar_data"
      ],
      "execution_count": 4,
      "outputs": []
    },
    {
      "cell_type": "code",
      "metadata": {
        "colab": {
          "base_uri": "https://localhost:8080/",
          "height": 100,
          "referenced_widgets": [
            "1a2dbecbfb8e4c58afc5e2154bc4d7fa",
            "8cde68c21cd6410f9435dcaadf42216b",
            "7913b523a7ad4599b23cf9ceb3849ed7",
            "fce423e21c6f4bd5b251dddf854b628f",
            "7b3b469c99304a6da888dbb3d1af3ba3",
            "52530637493f45e2b21896eca681f397",
            "8ca5db86d4f549e9ac4c606df65068cb",
            "665b72a4372c4a18aaf8db89b7545fcb"
          ]
        },
        "id": "aDBbPmPPaQuG",
        "outputId": "2393dd06-899c-4032-e69a-7b887d66ca0a"
      },
      "source": [
        "# Download the data.\n",
        "from torchvision import datasets, transforms\n",
        "\n",
        "transformations = transforms.Compose(\n",
        "    [transforms.ToTensor(),\n",
        "     transforms.Normalize((0.5, 0.5, 0.5), (0.5, 0.5, 0.5))])\n",
        "train_set = datasets.CIFAR10(root='cifar_data/', download=True, transform=transformations)\n",
        "test_set = datasets.CIFAR10(root='cifar_data', download=True, train=False, transform=transformations)"
      ],
      "execution_count": 5,
      "outputs": [
        {
          "output_type": "stream",
          "text": [
            "Downloading https://www.cs.toronto.edu/~kriz/cifar-10-python.tar.gz to cifar_data/cifar-10-python.tar.gz\n"
          ],
          "name": "stdout"
        },
        {
          "output_type": "display_data",
          "data": {
            "application/vnd.jupyter.widget-view+json": {
              "model_id": "1a2dbecbfb8e4c58afc5e2154bc4d7fa",
              "version_minor": 0,
              "version_major": 2
            },
            "text/plain": [
              "HBox(children=(FloatProgress(value=1.0, bar_style='info', max=1.0), HTML(value='')))"
            ]
          },
          "metadata": {
            "tags": []
          }
        },
        {
          "output_type": "stream",
          "text": [
            "Extracting cifar_data/cifar-10-python.tar.gz to cifar_data/\n",
            "Files already downloaded and verified\n"
          ],
          "name": "stdout"
        }
      ]
    },
    {
      "cell_type": "markdown",
      "metadata": {
        "id": "dfomsGyJiKz9"
      },
      "source": [
        "Use `DataLoader` to create a loader for the training set and a loader for the testing set."
      ]
    },
    {
      "cell_type": "code",
      "metadata": {
        "id": "Ioe04mbSiQiV"
      },
      "source": [
        "from torch.utils.data import DataLoader\n",
        "\n",
        "batch_size = 8\n",
        "train_loader = torch.utils.data.DataLoader(train_set, batch_size, shuffle=True, num_workers=2)\n",
        "test_loader = torch.utils.data.DataLoader(test_set, batch_size, shuffle=True, num_workers=2)\n",
        "\n",
        "input_shape = np.array(train_set[0][0]).shape\n",
        "input_dim = input_shape[1]*input_shape[2]*input_shape[0]"
      ],
      "execution_count": 7,
      "outputs": []
    },
    {
      "cell_type": "code",
      "metadata": {
        "id": "fGoPdmuUOOiE"
      },
      "source": [
        "training_epochs = 5"
      ],
      "execution_count": 8,
      "outputs": []
    },
    {
      "cell_type": "markdown",
      "metadata": {
        "id": "3T2-qkh8frqF"
      },
      "source": [
        "## Part 1: CIFAR10 with Fully Connected Neural Netowrk "
      ]
    },
    {
      "cell_type": "code",
      "metadata": {
        "colab": {
          "base_uri": "https://localhost:8080/"
        },
        "id": "Ck1CGpRycRFE",
        "outputId": "ad52a316-0ef9-4f8d-cffc-1779e54c946f"
      },
      "source": [
        "class TwoLayerModel(nn.Module):\n",
        "  def __init__(self):\n",
        "    super(TwoLayerModel, self).__init__()\n",
        "    self.net = nn.Sequential(\n",
        "      Flatten(), \n",
        "      nn.Linear(input_dim, 64), \n",
        "      nn.ReLU(), \n",
        "      nn.Linear(64, 10))\n",
        "    \n",
        "  def forward(self, x):\n",
        "    return self.net(x)\n",
        "\n",
        "model = TwoLayerModel().to(device)\n",
        "\n",
        "loss = nn.CrossEntropyLoss()\n",
        "optimizer = optim.RMSprop(model.parameters(), lr=0.001, weight_decay=0.01)\n",
        "\n",
        "metrics = train(model, train_loader, test_loader, loss, optimizer, training_epochs)"
      ],
      "execution_count": 9,
      "outputs": [
        {
          "output_type": "stream",
          "text": [
            "  Epoch 0 @ step 0: Train Loss: 0.004340, Train Accuracy: 0.000000\n",
            "  Epoch 0 @ step 1000: Train Loss: 1.927556, Train Accuracy: 0.334750\n",
            "  Epoch 0 @ step 2000: Train Loss: 1.806460, Train Accuracy: 0.358500\n",
            "  Epoch 0 @ step 3000: Train Loss: 1.779732, Train Accuracy: 0.370750\n",
            "  Epoch 0 @ step 4000: Train Loss: 1.783137, Train Accuracy: 0.357125\n",
            "  Epoch 0 @ step 5000: Train Loss: 1.769098, Train Accuracy: 0.361625\n",
            "  Epoch 0 @ step 6000: Train Loss: 1.774960, Train Accuracy: 0.365125\n",
            "Epoch 0 Test Loss: 1.715017, Test Accuracy: 0.384000, time: 31.6s\n",
            "  Epoch 1 @ step 7000: Train Loss: 1.743453, Train Accuracy: 0.381375\n",
            "  Epoch 1 @ step 8000: Train Loss: 1.762451, Train Accuracy: 0.376250\n",
            "  Epoch 1 @ step 9000: Train Loss: 1.734584, Train Accuracy: 0.387500\n",
            "  Epoch 1 @ step 10000: Train Loss: 1.753304, Train Accuracy: 0.377000\n",
            "  Epoch 1 @ step 11000: Train Loss: 1.755645, Train Accuracy: 0.376625\n",
            "  Epoch 1 @ step 12000: Train Loss: 1.737589, Train Accuracy: 0.373500\n",
            "Epoch 1 Test Loss: 1.738177, Test Accuracy: 0.365200, time: 30.7s\n",
            "  Epoch 2 @ step 13000: Train Loss: 1.728004, Train Accuracy: 0.374250\n",
            "  Epoch 2 @ step 14000: Train Loss: 1.735325, Train Accuracy: 0.380375\n",
            "  Epoch 2 @ step 15000: Train Loss: 1.738470, Train Accuracy: 0.374750\n",
            "  Epoch 2 @ step 16000: Train Loss: 1.737527, Train Accuracy: 0.376625\n",
            "  Epoch 2 @ step 17000: Train Loss: 1.720372, Train Accuracy: 0.385750\n",
            "  Epoch 2 @ step 18000: Train Loss: 1.726301, Train Accuracy: 0.386125\n",
            "Epoch 2 Test Loss: 1.709564, Test Accuracy: 0.387700, time: 30.4s\n",
            "  Epoch 3 @ step 19000: Train Loss: 1.742628, Train Accuracy: 0.383500\n",
            "  Epoch 3 @ step 20000: Train Loss: 1.715505, Train Accuracy: 0.383875\n",
            "  Epoch 3 @ step 21000: Train Loss: 1.752496, Train Accuracy: 0.366375\n",
            "  Epoch 3 @ step 22000: Train Loss: 1.731825, Train Accuracy: 0.383000\n",
            "  Epoch 3 @ step 23000: Train Loss: 1.740389, Train Accuracy: 0.380000\n",
            "  Epoch 3 @ step 24000: Train Loss: 1.751382, Train Accuracy: 0.376500\n",
            "Epoch 3 Test Loss: 1.673330, Test Accuracy: 0.406800, time: 30.3s\n",
            "  Epoch 4 @ step 25000: Train Loss: 1.717843, Train Accuracy: 0.386750\n",
            "  Epoch 4 @ step 26000: Train Loss: 1.709753, Train Accuracy: 0.396625\n",
            "  Epoch 4 @ step 27000: Train Loss: 1.725221, Train Accuracy: 0.377125\n",
            "  Epoch 4 @ step 28000: Train Loss: 1.741508, Train Accuracy: 0.384625\n",
            "  Epoch 4 @ step 29000: Train Loss: 1.738545, Train Accuracy: 0.377750\n",
            "  Epoch 4 @ step 30000: Train Loss: 1.739609, Train Accuracy: 0.388250\n",
            "  Epoch 4 @ step 31000: Train Loss: 1.742655, Train Accuracy: 0.366625\n",
            "Epoch 4 Test Loss: 1.698313, Test Accuracy: 0.394700, time: 30.3s\n",
            "Final Test Loss: 1.698313, Test Accuracy: 0.394700, Total time: 153.4s\n"
          ],
          "name": "stdout"
        }
      ]
    },
    {
      "cell_type": "markdown",
      "metadata": {
        "id": "qjbncuMnKpf7"
      },
      "source": [
        "**Plot the model results**"
      ]
    },
    {
      "cell_type": "code",
      "metadata": {
        "colab": {
          "base_uri": "https://localhost:8080/",
          "height": 573
        },
        "id": "CuVL9MJ_D92h",
        "outputId": "120d95ad-f89a-428a-d572-a9a641a59f38"
      },
      "source": [
        "plot_graphs(\"TwoLayerModel\", metrics)"
      ],
      "execution_count": 10,
      "outputs": [
        {
          "output_type": "display_data",
          "data": {
            "image/png": "[encoded data removed]",
            "text/plain": [
              "<Figure size 432x288 with 1 Axes>"
            ]
          },
          "metadata": {
            "tags": [],
            "needs_background": "light"
          }
        },
        {
          "output_type": "display_data",
          "data": {
            "image/png": "[encoded data removed]",
            "text/plain": [
              "<Figure size 432x288 with 1 Axes>"
            ]
          },
          "metadata": {
            "tags": [],
            "needs_background": "light"
          }
        }
      ]
    },
    {
      "cell_type": "markdown",
      "metadata": {
        "id": "4_xi8bkkfsM7"
      },
      "source": [
        "## Part 2: CIFAR10 with Convolutional Neural Network (CNN) \n",
        "\n",
        "1. A convolution with\t3x3 filter, 16 output channels, stride = 1, padding=1\n",
        "2. A ReLU activation\n",
        "2. A Max-Pooling layer with 2x2 window\n",
        "3. A convolution,\t3x3 filter, 16 output channels, stride = 1, padding=1\n",
        "4. A ReLU activation\n",
        "4. Flatten layer\n",
        "5. Fully connected linear layer with output size 64\n",
        "6. ReLU\n",
        "7. Fully connected linear layer, with output size 10"
      ]
    },
    {
      "cell_type": "code",
      "metadata": {
        "colab": {
          "base_uri": "https://localhost:8080/"
        },
        "id": "tLXjjywngO7g",
        "outputId": "1ab03737-522a-4e1f-9b66-85244390d05d"
      },
      "source": [
        "class ConvModel(nn.Module):\n",
        "  def __init__(self):\n",
        "    super(ConvModel, self).__init__()\n",
        "    self.net = nn.Sequential(\n",
        "      nn.Conv2d(in_channels = 3, out_channels = 16, kernel_size = 3,stride = 1, padding=1),\n",
        "      nn.ReLU(),\n",
        "      nn.MaxPool2d(2,2),\n",
        "      nn.Conv2d(in_channels = 16, out_channels = 16, kernel_size = 3,stride = 1, padding=1),        \n",
        "      nn.ReLU(),\n",
        "      Flatten(),\n",
        "      nn.Linear(4096, 64), \n",
        "      nn.ReLU(), \n",
        "      nn.Linear(64, 10))\n",
        "    \n",
        "  def forward(self, x):\n",
        "    return self.net(x)\n",
        "\n",
        "model = ConvModel().to(device)\n",
        "\n",
        "loss = nn.CrossEntropyLoss()\n",
        "optimizer = optim.RMSprop(model.parameters(), lr=0.001, weight_decay=0.01)\n",
        "\n",
        "metrics = train(model, train_loader, test_loader, loss, optimizer, training_epochs)"
      ],
      "execution_count": 11,
      "outputs": [
        {
          "output_type": "stream",
          "text": [
            "  Epoch 0 @ step 0: Train Loss: 0.004304, Train Accuracy: 0.000375\n",
            "  Epoch 0 @ step 1000: Train Loss: 1.864111, Train Accuracy: 0.327250\n",
            "  Epoch 0 @ step 2000: Train Loss: 1.612175, Train Accuracy: 0.412625\n",
            "  Epoch 0 @ step 3000: Train Loss: 1.525769, Train Accuracy: 0.440875\n",
            "  Epoch 0 @ step 4000: Train Loss: 1.437974, Train Accuracy: 0.478375\n",
            "  Epoch 0 @ step 5000: Train Loss: 1.408108, Train Accuracy: 0.479375\n",
            "  Epoch 0 @ step 6000: Train Loss: 1.407921, Train Accuracy: 0.488375\n",
            "Epoch 0 Test Loss: 1.413080, Test Accuracy: 0.478700, time: 37.0s\n",
            "  Epoch 1 @ step 7000: Train Loss: 1.395619, Train Accuracy: 0.492250\n",
            "  Epoch 1 @ step 8000: Train Loss: 1.383005, Train Accuracy: 0.499125\n",
            "  Epoch 1 @ step 9000: Train Loss: 1.355850, Train Accuracy: 0.502500\n",
            "  Epoch 1 @ step 10000: Train Loss: 1.342182, Train Accuracy: 0.524625\n",
            "  Epoch 1 @ step 11000: Train Loss: 1.371780, Train Accuracy: 0.503625\n",
            "  Epoch 1 @ step 12000: Train Loss: 1.359002, Train Accuracy: 0.507000\n",
            "Epoch 1 Test Loss: 1.286998, Test Accuracy: 0.531400, time: 37.5s\n",
            "  Epoch 2 @ step 13000: Train Loss: 1.324569, Train Accuracy: 0.515625\n",
            "  Epoch 2 @ step 14000: Train Loss: 1.334013, Train Accuracy: 0.523500\n",
            "  Epoch 2 @ step 15000: Train Loss: 1.319589, Train Accuracy: 0.520375\n",
            "  Epoch 2 @ step 16000: Train Loss: 1.324492, Train Accuracy: 0.523250\n",
            "  Epoch 2 @ step 17000: Train Loss: 1.316533, Train Accuracy: 0.519750\n",
            "  Epoch 2 @ step 18000: Train Loss: 1.317867, Train Accuracy: 0.533750\n",
            "Epoch 2 Test Loss: 1.262307, Test Accuracy: 0.546400, time: 36.8s\n",
            "  Epoch 3 @ step 19000: Train Loss: 1.303069, Train Accuracy: 0.531000\n",
            "  Epoch 3 @ step 20000: Train Loss: 1.283048, Train Accuracy: 0.540875\n",
            "  Epoch 3 @ step 21000: Train Loss: 1.293363, Train Accuracy: 0.529000\n",
            "  Epoch 3 @ step 22000: Train Loss: 1.310546, Train Accuracy: 0.520125\n",
            "  Epoch 3 @ step 23000: Train Loss: 1.297959, Train Accuracy: 0.534375\n",
            "  Epoch 3 @ step 24000: Train Loss: 1.303586, Train Accuracy: 0.535625\n",
            "Epoch 3 Test Loss: 1.295253, Test Accuracy: 0.524600, time: 37.2s\n",
            "  Epoch 4 @ step 25000: Train Loss: 1.286105, Train Accuracy: 0.536375\n",
            "  Epoch 4 @ step 26000: Train Loss: 1.273162, Train Accuracy: 0.539500\n",
            "  Epoch 4 @ step 27000: Train Loss: 1.289300, Train Accuracy: 0.537750\n",
            "  Epoch 4 @ step 28000: Train Loss: 1.279555, Train Accuracy: 0.543125\n",
            "  Epoch 4 @ step 29000: Train Loss: 1.278937, Train Accuracy: 0.531750\n",
            "  Epoch 4 @ step 30000: Train Loss: 1.288457, Train Accuracy: 0.542375\n",
            "  Epoch 4 @ step 31000: Train Loss: 1.286783, Train Accuracy: 0.534375\n",
            "Epoch 4 Test Loss: 1.216208, Test Accuracy: 0.560200, time: 36.9s\n",
            "Final Test Loss: 1.216208, Test Accuracy: 0.560200, Total time: 185.3s\n"
          ],
          "name": "stdout"
        }
      ]
    },
    {
      "cell_type": "code",
      "metadata": {
        "colab": {
          "base_uri": "https://localhost:8080/",
          "height": 573
        },
        "id": "8BGTJw-TPTfh",
        "outputId": "6879a247-4d05-45d5-e675-1794af8e533e"
      },
      "source": [
        "plot_graphs(\"ConvModel\", metrics)"
      ],
      "execution_count": 12,
      "outputs": [
        {
          "output_type": "display_data",
          "data": {
            "image/png": "[encoded data removed]",
            "text/plain": [
              "<Figure size 432x288 with 1 Axes>"
            ]
          },
          "metadata": {
            "tags": [],
            "needs_background": "light"
          }
        },
        {
          "output_type": "display_data",
          "data": {
            "image/png": "[encoded data removed]",
            "text/plain": [
              "<Figure size 432x288 with 1 Axes>"
            ]
          },
          "metadata": {
            "tags": [],
            "needs_background": "light"
          }
        }
      ]
    },
    {
      "cell_type": "markdown",
      "metadata": {
        "id": "hXpJgsjhftDP"
      },
      "source": [
        "## Part 3: CIFAR10 with Resnet"
      ]
    },
    {
      "cell_type": "code",
      "metadata": {
        "id": "Ad3ndyXL_OyI"
      },
      "source": [
        "import torch\n",
        "import torch.nn as nn\n",
        "import torch.nn.functional as F\n",
        "\n",
        "\n",
        "class BasicBlock(nn.Module):\n",
        "    expansion = 1\n",
        "\n",
        "    def __init__(self, in_planes, planes, stride=1):\n",
        "        super(BasicBlock, self).__init__()\n",
        "        self.conv1 = nn.Conv2d(in_planes, planes, kernel_size=3, stride=stride, padding=1, bias=False)\n",
        "        self.bn1 = nn.BatchNorm2d(planes)\n",
        "        self.conv2 = nn.Conv2d(planes, planes, kernel_size=3, stride=1, padding=1, bias=False)\n",
        "        self.bn2 = nn.BatchNorm2d(planes)\n",
        "\n",
        "        self.shortcut = nn.Sequential()\n",
        "        if stride != 1 or in_planes != self.expansion*planes:\n",
        "            self.shortcut = nn.Sequential(\n",
        "                nn.Conv2d(in_planes, self.expansion*planes, kernel_size=1, stride=stride, bias=False),\n",
        "                nn.BatchNorm2d(self.expansion*planes)\n",
        "            )\n",
        "        self.dropout = nn.Dropout(0.5)    \n",
        "\n",
        "    def forward(self, x):\n",
        "        out = F.relu(self.bn1(self.conv1(x)))\n",
        "        out = self.bn2(self.conv2(out))\n",
        "        out += self.shortcut(x)\n",
        "        out = F.relu(out)\n",
        "        return out\n",
        "\n",
        "\n",
        "\n",
        "class ResNet(nn.Module):\n",
        "    def __init__(self, block, num_blocks, num_classes=10):\n",
        "        super(ResNet, self).__init__()\n",
        "        self.in_planes = 64\n",
        "\n",
        "        self.conv1 = nn.Conv2d(3, 64, kernel_size=3, stride=1, padding=1, bias=False)\n",
        "        self.bn1 = nn.BatchNorm2d(64)\n",
        "        self.layer1 = self._make_layer(block, 64, num_blocks[0], stride=1)\n",
        "        self.layer2 = self._make_layer(block, 128, num_blocks[1], stride=2)\n",
        "        self.layer3 = self._make_layer(block, 256, num_blocks[2], stride=2)\n",
        "        self.layer4 = self._make_layer(block, 512, num_blocks[3], stride=2)\n",
        "        self.linear = nn.Linear(512*block.expansion, num_classes)\n",
        "\n",
        "    def _make_layer(self, block, planes, num_blocks, stride):\n",
        "        strides = [stride] + [1]*(num_blocks-1)\n",
        "        layers = []\n",
        "        for stride in strides:\n",
        "            layers.append(block(self.in_planes, planes, stride))\n",
        "            self.in_planes = planes * block.expansion\n",
        "        return nn.Sequential(*layers)\n",
        "\n",
        "    def forward(self, x):\n",
        "        out = F.relu(self.bn1(self.conv1(x)))\n",
        "        out = self.layer1(out)\n",
        "        out = self.layer2(out)\n",
        "        out = self.layer3(out)\n",
        "        out = self.layer4(out)\n",
        "        out = F.avg_pool2d(out, 4)\n",
        "        out = out.view(out.size(0), -1)\n",
        "        out = self.linear(out)\n",
        "        return out\n",
        "\n",
        "def AwesomeModel():\n",
        "    return ResNet(BasicBlock, [3,4,6,3])\n"
      ],
      "execution_count": 13,
      "outputs": []
    },
    {
      "cell_type": "code",
      "metadata": {
        "colab": {
          "base_uri": "https://localhost:8080/"
        },
        "id": "dRfAsMWtRIZx",
        "outputId": "d7b4aaa3-2fd2-47e8-fd05-3ee192cb6b1d"
      },
      "source": [
        "model = AwesomeModel().to(device)\n",
        "\n",
        "loss = nn.CrossEntropyLoss()\n",
        "optimizer = optim.Adam(model.parameters(), lr=0.003)\n",
        "\n",
        "metrics = train(model, train_loader, test_loader, loss, optimizer, 7)"
      ],
      "execution_count": 14,
      "outputs": [
        {
          "output_type": "stream",
          "text": [
            "  Epoch 0 @ step 0: Train Loss: 0.004815, Train Accuracy: 0.000000\n",
            "  Epoch 0 @ step 1000: Train Loss: 2.190252, Train Accuracy: 0.198250\n",
            "  Epoch 0 @ step 2000: Train Loss: 1.884732, Train Accuracy: 0.287250\n",
            "  Epoch 0 @ step 3000: Train Loss: 1.761324, Train Accuracy: 0.351375\n",
            "  Epoch 0 @ step 4000: Train Loss: 1.642815, Train Accuracy: 0.396875\n",
            "  Epoch 0 @ step 5000: Train Loss: 1.527939, Train Accuracy: 0.438375\n",
            "  Epoch 0 @ step 6000: Train Loss: 1.416617, Train Accuracy: 0.484125\n",
            "Epoch 0 Test Loss: 1.251736, Test Accuracy: 0.547200, time: 254.2s\n",
            "  Epoch 1 @ step 7000: Train Loss: 1.277060, Train Accuracy: 0.535375\n",
            "  Epoch 1 @ step 8000: Train Loss: 1.184752, Train Accuracy: 0.581125\n",
            "  Epoch 1 @ step 9000: Train Loss: 1.110262, Train Accuracy: 0.605000\n",
            "  Epoch 1 @ step 10000: Train Loss: 1.046515, Train Accuracy: 0.628125\n",
            "  Epoch 1 @ step 11000: Train Loss: 0.987635, Train Accuracy: 0.653250\n",
            "  Epoch 1 @ step 12000: Train Loss: 0.940809, Train Accuracy: 0.670125\n",
            "Epoch 1 Test Loss: 0.818544, Test Accuracy: 0.713800, time: 254.1s\n",
            "  Epoch 2 @ step 13000: Train Loss: 0.858796, Train Accuracy: 0.699500\n",
            "  Epoch 2 @ step 14000: Train Loss: 0.817300, Train Accuracy: 0.711875\n",
            "  Epoch 2 @ step 15000: Train Loss: 0.778031, Train Accuracy: 0.727500\n",
            "  Epoch 2 @ step 16000: Train Loss: 0.759516, Train Accuracy: 0.738375\n",
            "  Epoch 2 @ step 17000: Train Loss: 0.711719, Train Accuracy: 0.753625\n",
            "  Epoch 2 @ step 18000: Train Loss: 0.701342, Train Accuracy: 0.756500\n",
            "Epoch 2 Test Loss: 0.663479, Test Accuracy: 0.775000, time: 253.2s\n",
            "  Epoch 3 @ step 19000: Train Loss: 0.640773, Train Accuracy: 0.781375\n",
            "  Epoch 3 @ step 20000: Train Loss: 0.570133, Train Accuracy: 0.801125\n",
            "  Epoch 3 @ step 21000: Train Loss: 0.568034, Train Accuracy: 0.801625\n",
            "  Epoch 3 @ step 22000: Train Loss: 0.543884, Train Accuracy: 0.808250\n",
            "  Epoch 3 @ step 23000: Train Loss: 0.542993, Train Accuracy: 0.809750\n",
            "  Epoch 3 @ step 24000: Train Loss: 0.542566, Train Accuracy: 0.814000\n",
            "Epoch 3 Test Loss: 0.574566, Test Accuracy: 0.804700, time: 253.2s\n",
            "  Epoch 4 @ step 25000: Train Loss: 0.530532, Train Accuracy: 0.815375\n",
            "  Epoch 4 @ step 26000: Train Loss: 0.395663, Train Accuracy: 0.859000\n",
            "  Epoch 4 @ step 27000: Train Loss: 0.422478, Train Accuracy: 0.849750\n",
            "  Epoch 4 @ step 28000: Train Loss: 0.413099, Train Accuracy: 0.854375\n",
            "  Epoch 4 @ step 29000: Train Loss: 0.408664, Train Accuracy: 0.858250\n",
            "  Epoch 4 @ step 30000: Train Loss: 0.405222, Train Accuracy: 0.860750\n",
            "  Epoch 4 @ step 31000: Train Loss: 0.417104, Train Accuracy: 0.851000\n",
            "Epoch 4 Test Loss: 0.529551, Test Accuracy: 0.820000, time: 253.2s\n",
            "  Epoch 5 @ step 32000: Train Loss: 0.301206, Train Accuracy: 0.893750\n",
            "  Epoch 5 @ step 33000: Train Loss: 0.269035, Train Accuracy: 0.902875\n",
            "  Epoch 5 @ step 34000: Train Loss: 0.290222, Train Accuracy: 0.900000\n",
            "  Epoch 5 @ step 35000: Train Loss: 0.295165, Train Accuracy: 0.896375\n",
            "  Epoch 5 @ step 36000: Train Loss: 0.300112, Train Accuracy: 0.893125\n",
            "  Epoch 5 @ step 37000: Train Loss: 0.306303, Train Accuracy: 0.895125\n",
            "Epoch 5 Test Loss: 0.590132, Test Accuracy: 0.818700, time: 253.2s\n",
            "  Epoch 6 @ step 38000: Train Loss: 0.237049, Train Accuracy: 0.913875\n",
            "  Epoch 6 @ step 39000: Train Loss: 0.177788, Train Accuracy: 0.938375\n",
            "  Epoch 6 @ step 40000: Train Loss: 0.193244, Train Accuracy: 0.931500\n",
            "  Epoch 6 @ step 41000: Train Loss: 0.218483, Train Accuracy: 0.926250\n",
            "  Epoch 6 @ step 42000: Train Loss: 0.216341, Train Accuracy: 0.924750\n",
            "  Epoch 6 @ step 43000: Train Loss: 0.212822, Train Accuracy: 0.925000\n",
            "Epoch 6 Test Loss: 0.592876, Test Accuracy: 0.824600, time: 253.0s\n",
            "Final Test Loss: 0.592876, Test Accuracy: 0.824600, Total time: 1774.0s\n"
          ],
          "name": "stdout"
        }
      ]
    },
    {
      "cell_type": "code",
      "metadata": {
        "colab": {
          "base_uri": "https://localhost:8080/",
          "height": 573
        },
        "id": "uItu0w4fZTuG",
        "outputId": "1183bb0d-a085-4357-b511-aa6842535169"
      },
      "source": [
        "plot_graphs(\"AwesomeModel\", metrics)"
      ],
      "execution_count": 15,
      "outputs": [
        {
          "output_type": "display_data",
          "data": {
            "image/png": "[encoded data removed]",
            "text/plain": [
              "<Figure size 432x288 with 1 Axes>"
            ]
          },
          "metadata": {
            "tags": [],
            "needs_background": "light"
          }
        },
        {
          "output_type": "display_data",
          "data": {
            "image/png": "[encoded data removed]",
            "text/plain": [
              "<Figure size 432x288 with 1 Axes>"
            ]
          },
          "metadata": {
            "tags": [],
            "needs_background": "light"
          }
        }
      ]
    },
    {
      "cell_type": "code",
      "metadata": {
        "id": "UDmUEuwVAinD"
      },
      "source": [
        ""
      ],
      "execution_count": null,
      "outputs": []
    }
  ]
}